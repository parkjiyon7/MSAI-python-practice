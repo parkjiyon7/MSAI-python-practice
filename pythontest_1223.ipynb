{
 "cells": [
  {
   "cell_type": "markdown",
   "metadata": {},
   "source": [
    "# 2024-12-23"
   ]
  },
  {
   "cell_type": "markdown",
   "metadata": {},
   "source": [
    "#### 구구단 출력\n",
    "\n",
    "2 4 6 8 10 12 14 16\n"
   ]
  },
  {
   "cell_type": "code",
   "execution_count": 1,
   "metadata": {},
   "outputs": [
    {
     "name": "stdout",
     "output_type": "stream",
     "text": [
      "2 4 6 8 10 12 14 16 18 "
     ]
    }
   ],
   "source": [
    "for su in range(1, 10):\n",
    "    print(2 * su, end = \" \")"
   ]
  },
  {
   "cell_type": "code",
   "execution_count": 2,
   "metadata": {},
   "outputs": [
    {
     "name": "stdout",
     "output_type": "stream",
     "text": [
      "2 4 6 8 10 12 14 16 18 \n",
      "3 6 9 12 15 18 21 24 27 \n",
      "4 8 12 16 20 24 28 32 36 \n",
      "5 10 15 20 25 30 35 40 45 \n",
      "6 12 18 24 30 36 42 48 54 \n",
      "7 14 21 28 35 42 49 56 63 \n",
      "8 16 24 32 40 48 56 64 72 \n",
      "9 18 27 36 45 54 63 72 81 \n"
     ]
    }
   ],
   "source": [
    "for i in range(2, 10):\n",
    "    for j in range(1, 10):\n",
    "        print(j*i, end = \" \")\n",
    "    print()\n"
   ]
  },
  {
   "cell_type": "code",
   "execution_count": 3,
   "metadata": {},
   "outputs": [
    {
     "name": "stdout",
     "output_type": "stream",
     "text": [
      "거스름돈을 돌려드립니다. 50입니다, 남은 커피의 개수는 10입니다\n",
      "===========================\n",
      "\n",
      "커피를 드립니다\n",
      "===========================\n",
      "\n",
      "커피를 드립니다, 거스름돈 300입니다\n",
      "===========================\n",
      "\n",
      "커피를 드립니다, 거스름돈 100입니다\n",
      "===========================\n",
      "\n",
      "거스름돈을 돌려드립니다. 100입니다, 남은 커피의 개수는 7입니다\n",
      "===========================\n",
      "\n",
      "커피를 드립니다\n",
      "===========================\n",
      "\n",
      "커피를 드립니다, 거스름돈 30입니다\n",
      "===========================\n",
      "\n",
      "거스름돈을 돌려드립니다. 200입니다, 남은 커피의 개수는 5입니다\n",
      "===========================\n",
      "\n",
      "커피를 드립니다\n",
      "===========================\n",
      "\n",
      "거스름돈을 돌려드립니다. 60입니다, 남은 커피의 개수는 4입니다\n",
      "===========================\n",
      "\n",
      "커피를 드립니다, 거스름돈 100입니다\n",
      "===========================\n",
      "\n",
      "커피를 드립니다, 거스름돈 100입니다\n",
      "===========================\n",
      "\n",
      "커피를 드립니다, 거스름돈 100입니다\n",
      "===========================\n",
      "\n",
      "커피를 드립니다, 거스름돈 200입니다\n",
      "===========================\n",
      "\n",
      "커피가 다 떨어졌습니다. 다음에 이용해 주세요\n"
     ]
    }
   ],
   "source": [
    "#자판기\n",
    "\n",
    "coffee = 10\n",
    "#outmon = 0\n",
    "#money = int(input('돈을 입력하세요: '))\n",
    "\n",
    "while (coffee >= 0):\n",
    "    money = int(input('돈을 입력하세요: '))\n",
    "    if(money == 300):\n",
    "        print(f'커피를 드립니다')\n",
    "        coffee = coffee -1\n",
    "\n",
    "    elif(money > 300):\n",
    "        outmon = money -300\n",
    "        print(f'커피를 드립니다, 거스름돈 {outmon}입니다')\n",
    "        coffee = coffee -1\n",
    "        #break\n",
    "    else:\n",
    "        outmon = money\n",
    "        print(f'거스름돈을 돌려드립니다. {outmon}입니다, 남은 커피의 개수는 {coffee}입니다')\n",
    "        #break\n",
    "    print(\"===========================\\n\")\n",
    "\n",
    "    if(coffee == 0):\n",
    "        print('커피가 다 떨어졌습니다. 다음에 이용해 주세요')\n",
    "        break\n",
    "\n",
    "    \n"
   ]
  },
  {
   "cell_type": "markdown",
   "metadata": {},
   "source": [
    "## Dictionary"
   ]
  },
  {
   "cell_type": "code",
   "execution_count": 4,
   "metadata": {},
   "outputs": [
    {
     "name": "stdout",
     "output_type": "stream",
     "text": [
      "<class 'dict'>\n"
     ]
    }
   ],
   "source": [
    "menu = {'김밥': 2000, '라면': 3000, '돈까스': 5000}\n",
    "\n",
    "print(type(menu))"
   ]
  },
  {
   "cell_type": "code",
   "execution_count": 5,
   "metadata": {},
   "outputs": [
    {
     "data": {
      "text/plain": [
       "2000"
      ]
     },
     "execution_count": 5,
     "metadata": {},
     "output_type": "execute_result"
    }
   ],
   "source": [
    "menu['김밥']"
   ]
  },
  {
   "cell_type": "code",
   "execution_count": 6,
   "metadata": {},
   "outputs": [
    {
     "data": {
      "text/plain": [
       "{'김밥': 2000, '라면': 3000, '돈까스': 5000, '떡볶이': 3000}"
      ]
     },
     "execution_count": 6,
     "metadata": {},
     "output_type": "execute_result"
    }
   ],
   "source": [
    "menu['떡볶이'] = 3000\n",
    "\n",
    "menu"
   ]
  },
  {
   "cell_type": "code",
   "execution_count": 7,
   "metadata": {},
   "outputs": [
    {
     "ename": "KeyError",
     "evalue": "'로제떡볶이'",
     "output_type": "error",
     "traceback": [
      "\u001b[1;31m---------------------------------------------------------------------------\u001b[0m",
      "\u001b[1;31mKeyError\u001b[0m                                  Traceback (most recent call last)",
      "Cell \u001b[1;32mIn[7], line 1\u001b[0m\n\u001b[1;32m----> 1\u001b[0m \u001b[43mmenu\u001b[49m\u001b[43m[\u001b[49m\u001b[38;5;124;43m'\u001b[39;49m\u001b[38;5;124;43m로제떡볶이\u001b[39;49m\u001b[38;5;124;43m'\u001b[39;49m\u001b[43m]\u001b[49m \u001b[38;5;241m+\u001b[39m\u001b[38;5;241m=\u001b[39m \u001b[38;5;241m3000\u001b[39m\n",
      "\u001b[1;31mKeyError\u001b[0m: '로제떡볶이'"
     ]
    }
   ],
   "source": [
    "menu['로제떡볶이'] += 3000"
   ]
  },
  {
   "cell_type": "code",
   "execution_count": 64,
   "metadata": {},
   "outputs": [
    {
     "name": "stdout",
     "output_type": "stream",
     "text": [
      "['김밥', '라면', '돈까스']\n"
     ]
    }
   ],
   "source": [
    "k = list(menu.keys())\n",
    "print(k)"
   ]
  },
  {
   "cell_type": "code",
   "execution_count": 38,
   "metadata": {},
   "outputs": [
    {
     "data": {
      "text/plain": [
       "dict_items([('김밥', 2000), ('라면', 3000), ('돈까스', 5000)])"
      ]
     },
     "execution_count": 38,
     "metadata": {},
     "output_type": "execute_result"
    }
   ],
   "source": [
    "menu.items()"
   ]
  },
  {
   "cell_type": "code",
   "execution_count": 37,
   "metadata": {},
   "outputs": [
    {
     "data": {
      "text/plain": [
       "dict_values([2000, 3000, 5000])"
      ]
     },
     "execution_count": 37,
     "metadata": {},
     "output_type": "execute_result"
    }
   ],
   "source": [
    "menu.values()"
   ]
  },
  {
   "cell_type": "code",
   "execution_count": 27,
   "metadata": {},
   "outputs": [
    {
     "name": "stdout",
     "output_type": "stream",
     "text": [
      "2000\n",
      "3000\n",
      "5000\n",
      "3000\n"
     ]
    }
   ],
   "source": [
    "for menu in menu.values():\n",
    "    print(menu)"
   ]
  },
  {
   "cell_type": "code",
   "execution_count": 39,
   "metadata": {},
   "outputs": [
    {
     "name": "stdout",
     "output_type": "stream",
     "text": [
      "{'김밥': 2000, '라면': 3000, '돈까스': 5000}\n",
      "{'김밥': 2000, '라면': 3000, '돈까스': 5000}\n",
      "{'김밥': 2000, '라면': 3000, '돈까스': 5000}\n"
     ]
    }
   ],
   "source": [
    "for menu_item in menu.keys():\n",
    "    print(menu)"
   ]
  },
  {
   "cell_type": "code",
   "execution_count": 42,
   "metadata": {},
   "outputs": [
    {
     "data": {
      "text/plain": [
       "2000"
      ]
     },
     "execution_count": 42,
     "metadata": {},
     "output_type": "execute_result"
    }
   ],
   "source": [
    "menu.pop('김밥')"
   ]
  },
  {
   "cell_type": "code",
   "execution_count": 46,
   "metadata": {},
   "outputs": [
    {
     "data": {
      "text/plain": [
       "{'라면': 3000, '돈까스': 5000}"
      ]
     },
     "execution_count": 46,
     "metadata": {},
     "output_type": "execute_result"
    }
   ],
   "source": [
    "menu"
   ]
  },
  {
   "cell_type": "code",
   "execution_count": 47,
   "metadata": {},
   "outputs": [
    {
     "data": {
      "text/plain": [
       "('돈까스', 5000)"
      ]
     },
     "execution_count": 47,
     "metadata": {},
     "output_type": "execute_result"
    }
   ],
   "source": [
    "menu.popitem()"
   ]
  },
  {
   "cell_type": "code",
   "execution_count": 50,
   "metadata": {},
   "outputs": [
    {
     "data": {
      "text/plain": [
       "{'김밥': 2000, '라면': 3000, '돈까스': 5000}"
      ]
     },
     "execution_count": 50,
     "metadata": {},
     "output_type": "execute_result"
    }
   ],
   "source": [
    "menu"
   ]
  },
  {
   "cell_type": "code",
   "execution_count": 53,
   "metadata": {},
   "outputs": [
    {
     "name": "stdout",
     "output_type": "stream",
     "text": [
      "김밥 2000\n",
      "라면 3000\n",
      "돈까스 5000\n"
     ]
    }
   ],
   "source": [
    "for key, value in menu.items():\n",
    "    print(key, value)"
   ]
  },
  {
   "cell_type": "code",
   "execution_count": 55,
   "metadata": {},
   "outputs": [
    {
     "data": {
      "text/plain": [
       "{'김밥': 2000, '라면': 3000, '돈까스': 5000}"
      ]
     },
     "execution_count": 55,
     "metadata": {},
     "output_type": "execute_result"
    }
   ],
   "source": [
    "menu"
   ]
  },
  {
   "cell_type": "code",
   "execution_count": 56,
   "metadata": {},
   "outputs": [
    {
     "data": {
      "text/plain": [
       "{'라면': 3000, '돈까스': 5000}"
      ]
     },
     "execution_count": 56,
     "metadata": {},
     "output_type": "execute_result"
    }
   ],
   "source": [
    "menu.pop('김밥')\n",
    "menu"
   ]
  },
  {
   "cell_type": "code",
   "execution_count": 73,
   "metadata": {},
   "outputs": [
    {
     "data": {
      "text/plain": [
       "2000"
      ]
     },
     "execution_count": 73,
     "metadata": {},
     "output_type": "execute_result"
    }
   ],
   "source": [
    "menu['김밥']"
   ]
  },
  {
   "cell_type": "code",
   "execution_count": 60,
   "metadata": {},
   "outputs": [
    {
     "name": "stdout",
     "output_type": "stream",
     "text": [
      "None\n"
     ]
    }
   ],
   "source": [
    "print(menu.get('김밥'))"
   ]
  },
  {
   "cell_type": "code",
   "execution_count": 61,
   "metadata": {},
   "outputs": [],
   "source": [
    "a_list = [3, 'hello', [4, 5, 6], {'a': 1, 'b': 1}]"
   ]
  },
  {
   "cell_type": "code",
   "execution_count": 67,
   "metadata": {},
   "outputs": [
    {
     "name": "stdout",
     "output_type": "stream",
     "text": [
      "**************\n",
      "1. 영어 과제\n",
      "**************\n",
      "**************\n",
      "1. 영어 과제\n",
      "2. 강아지 산책\n",
      "**************\n",
      "**************\n",
      "1. 영어 과제\n",
      "**************\n",
      "메뉴 선택 오류입니다. 다시 선택하세요.\n",
      "프로그램을 종료합니다.\n"
     ]
    }
   ],
   "source": [
    "#오늘의 할일 관리 프로그램\n",
    "\n",
    "todolist = []\n",
    "\n",
    "while True:\n",
    "    sel = int(input('메뉴선택(1: 추가, 2: 삭제, 0: 종료)?: '))\n",
    "    # 추가\n",
    "    if(sel == 1):\n",
    "        task = input('* 할일 내용 입력 >> ')\n",
    "        print('**************')\n",
    "        todolist.append(task)\n",
    "        for i in range(len(todolist)):\n",
    "            print(f'{i+1}. {todolist[i]}')\n",
    "        print('**************')\n",
    "    #삭제\n",
    "    elif(sel == 2):\n",
    "        fin = input('* 완료한 내용 입력 >> ')\n",
    "        print('**************')\n",
    "        todolist.remove(fin)\n",
    "        for i in range(len(todolist)):\n",
    "            print(f'{i+1}. {todolist[i]}')\n",
    "        print('**************')\n",
    "        \n",
    "    elif(sel ==0):\n",
    "        print('프로그램을 종료합니다.')\n",
    "        break\n",
    "\n",
    "    else:\n",
    "        print('메뉴 선택 오류입니다. 다시 선택하세요.')"
   ]
  },
  {
   "cell_type": "code",
   "execution_count": 74,
   "metadata": {},
   "outputs": [
    {
     "name": "stdout",
     "output_type": "stream",
     "text": [
      "{'라면': 3000, '돈까스': 5000, '김밥': 2000}\n"
     ]
    },
    {
     "data": {
      "text/plain": [
       "2000"
      ]
     },
     "execution_count": 74,
     "metadata": {},
     "output_type": "execute_result"
    }
   ],
   "source": [
    "menu = {'라면': 3000, '돈까스': 5000}\n",
    "sam = '김밥'\n",
    "menu[sam] = 2000\n",
    "print(menu)\n",
    "\n",
    "menu[sam]\n"
   ]
  },
  {
   "cell_type": "code",
   "execution_count": 77,
   "metadata": {},
   "outputs": [
    {
     "name": "stdout",
     "output_type": "stream",
     "text": [
      "입력되었습니다 [('유재석', '010-1111-2222')]\n",
      "입력되었습니다 [('유재석', '010-1111-2222'), ('홍길동', '010-3333-4444')]\n",
      "검색 가능한 친구들: ['유재석', '홍길동']\n",
      "유재석의 연락처 ['0', '1', '0', '-', '1', '1', '1', '1', '-', '2', '2', '2', '2']\n",
      "프로그램을 종료합니다.\n"
     ]
    }
   ],
   "source": [
    "#친구 전화번호 검색 프로그램\n",
    "\n",
    "phonebook = {}\n",
    "\n",
    "\n",
    "while True:\n",
    "    cho = int(input('메뉴선택(1: 추가, 2: 삭제, 0: 종료)?: '))\n",
    "    #추가가\n",
    "    if(cho == 1):\n",
    "        name_friend = input('친구 이름 입력>> ')\n",
    "        no_friend = input('전화번호 입력>>')\n",
    "        phonebook[name_friend]= no_friend\n",
    "        print(f'입력되었습니다 {list(phonebook.items())}')\n",
    "\n",
    "    #검색\n",
    "    elif(cho == 2):\n",
    "        print(f'검색 가능한 친구들: {list(phonebook.keys())}')\n",
    "        search = input('친구이름 입력>> ')\n",
    "        print(f'{search}의 연락처 {phonebook[search]}')\n",
    "    elif(cho == 0):\n",
    "        print('프로그램을 종료합니다.')\n",
    "        break\n",
    "\n",
    "    else:\n",
    "        print('메뉴 선택 오류입니다. 다시 선택하세요.')"
   ]
  }
 ],
 "metadata": {
  "kernelspec": {
   "display_name": "Python 3",
   "language": "python",
   "name": "python3"
  },
  "language_info": {
   "codemirror_mode": {
    "name": "ipython",
    "version": 3
   },
   "file_extension": ".py",
   "mimetype": "text/x-python",
   "name": "python",
   "nbconvert_exporter": "python",
   "pygments_lexer": "ipython3",
   "version": "3.13.1"
  }
 },
 "nbformat": 4,
 "nbformat_minor": 2
}
